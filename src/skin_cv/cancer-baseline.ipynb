{
 "cells": [
  {
   "cell_type": "code",
   "execution_count": 4,
   "outputs": [
    {
     "name": "stdout",
     "output_type": "stream",
     "text": [
      "Requirement already satisfied: kagglehub in /Users/iavnukov/PycharmProjects/skin-care-ai/venv/lib/python3.10/site-packages (0.3.6)\r\n",
      "Collecting tensorflow\r\n",
      "  Downloading tensorflow-2.18.0-cp310-cp310-macosx_12_0_arm64.whl (239.4 MB)\r\n",
      "\u001B[2K     \u001B[90m━━━━━━━━━━━━━━━━━━━━━━━━━━━━━━━━━━━━━━\u001B[0m \u001B[32m239.4/239.4 MB\u001B[0m \u001B[31m10.3 MB/s\u001B[0m eta \u001B[36m0:00:00\u001B[0m00:01\u001B[0m00:01\u001B[0m\r\n",
      "\u001B[?25hCollecting keras\r\n",
      "  Downloading keras-3.8.0-py3-none-any.whl (1.3 MB)\r\n",
      "\u001B[2K     \u001B[90m━━━━━━━━━━━━━━━━━━━━━━━━━━━━━━━━━━━━━━━━\u001B[0m \u001B[32m1.3/1.3 MB\u001B[0m \u001B[31m11.2 MB/s\u001B[0m eta \u001B[36m0:00:00\u001B[0m00:01\u001B[0m00:01\u001B[0m\r\n",
      "\u001B[?25hRequirement already satisfied: packaging in /Users/iavnukov/PycharmProjects/skin-care-ai/venv/lib/python3.10/site-packages (from kagglehub) (24.2)\r\n",
      "Requirement already satisfied: tqdm in /Users/iavnukov/PycharmProjects/skin-care-ai/venv/lib/python3.10/site-packages (from kagglehub) (4.67.1)\r\n",
      "Requirement already satisfied: requests in /Users/iavnukov/PycharmProjects/skin-care-ai/venv/lib/python3.10/site-packages (from kagglehub) (2.32.3)\r\n",
      "Requirement already satisfied: numpy<2.1.0,>=1.26.0 in /Users/iavnukov/PycharmProjects/skin-care-ai/venv/lib/python3.10/site-packages (from tensorflow) (1.26.4)\r\n",
      "Collecting absl-py>=1.0.0\r\n",
      "  Using cached absl_py-2.1.0-py3-none-any.whl (133 kB)\r\n",
      "Requirement already satisfied: six>=1.12.0 in /Users/iavnukov/PycharmProjects/skin-care-ai/venv/lib/python3.10/site-packages (from tensorflow) (1.17.0)\r\n",
      "Collecting protobuf!=4.21.0,!=4.21.1,!=4.21.2,!=4.21.3,!=4.21.4,!=4.21.5,<6.0.0dev,>=3.20.3\r\n",
      "  Downloading protobuf-5.29.3-cp38-abi3-macosx_10_9_universal2.whl (417 kB)\r\n",
      "\u001B[2K     \u001B[90m━━━━━━━━━━━━━━━━━━━━━━━━━━━━━━━━━━━━━━━\u001B[0m \u001B[32m417.8/417.8 kB\u001B[0m \u001B[31m9.5 MB/s\u001B[0m eta \u001B[36m0:00:00\u001B[0m00:01\u001B[0m\r\n",
      "\u001B[?25hCollecting astunparse>=1.6.0\r\n",
      "  Downloading astunparse-1.6.3-py2.py3-none-any.whl (12 kB)\r\n",
      "Collecting opt-einsum>=2.3.2\r\n",
      "  Using cached opt_einsum-3.4.0-py3-none-any.whl (71 kB)\r\n",
      "Collecting h5py>=3.11.0\r\n",
      "  Downloading h5py-3.12.1-cp310-cp310-macosx_11_0_arm64.whl (2.9 MB)\r\n",
      "\u001B[2K     \u001B[90m━━━━━━━━━━━━━━━━━━━━━━━━━━━━━━━━━━━━━━━━\u001B[0m \u001B[32m2.9/2.9 MB\u001B[0m \u001B[31m11.3 MB/s\u001B[0m eta \u001B[36m0:00:00\u001B[0ma \u001B[36m0:00:01\u001B[0m\r\n",
      "\u001B[?25hCollecting ml-dtypes<0.5.0,>=0.4.0\r\n",
      "  Downloading ml_dtypes-0.4.1-cp310-cp310-macosx_10_9_universal2.whl (397 kB)\r\n",
      "\u001B[2K     \u001B[90m━━━━━━━━━━━━━━━━━━━━━━━━━━━━━━━━━━━━━━━\u001B[0m \u001B[32m398.0/398.0 kB\u001B[0m \u001B[31m9.4 MB/s\u001B[0m eta \u001B[36m0:00:00\u001B[0m00:01\u001B[0m\r\n",
      "\u001B[?25hCollecting tensorboard<2.19,>=2.18\r\n",
      "  Downloading tensorboard-2.18.0-py3-none-any.whl (5.5 MB)\r\n",
      "\u001B[2K     \u001B[90m━━━━━━━━━━━━━━━━━━━━━━━━━━━━━━━━━━━━━━━━\u001B[0m \u001B[32m5.5/5.5 MB\u001B[0m \u001B[31m11.4 MB/s\u001B[0m eta \u001B[36m0:00:00\u001B[0m00:01\u001B[0m00:01\u001B[0m\r\n",
      "\u001B[?25hCollecting libclang>=13.0.0\r\n",
      "  Downloading libclang-18.1.1-1-py2.py3-none-macosx_11_0_arm64.whl (25.8 MB)\r\n",
      "\u001B[2K     \u001B[90m━━━━━━━━━━━━━━━━━━━━━━━━━━━━━━━━━━━━━━━━\u001B[0m \u001B[32m25.8/25.8 MB\u001B[0m \u001B[31m11.4 MB/s\u001B[0m eta \u001B[36m0:00:00\u001B[0m00:01\u001B[0m00:01\u001B[0m\r\n",
      "\u001B[?25hCollecting gast!=0.5.0,!=0.5.1,!=0.5.2,>=0.2.1\r\n",
      "  Downloading gast-0.6.0-py3-none-any.whl (21 kB)\r\n",
      "Collecting tensorflow-io-gcs-filesystem>=0.23.1\r\n",
      "  Downloading tensorflow_io_gcs_filesystem-0.37.1-cp310-cp310-macosx_12_0_arm64.whl (3.5 MB)\r\n",
      "\u001B[2K     \u001B[90m━━━━━━━━━━━━━━━━━━━━━━━━━━━━━━━━━━━━━━━━\u001B[0m \u001B[32m3.5/3.5 MB\u001B[0m \u001B[31m11.3 MB/s\u001B[0m eta \u001B[36m0:00:00\u001B[0ma \u001B[36m0:00:01\u001B[0m\r\n",
      "\u001B[?25hCollecting grpcio<2.0,>=1.24.3\r\n",
      "  Downloading grpcio-1.70.0-cp310-cp310-macosx_12_0_universal2.whl (11.4 MB)\r\n",
      "\u001B[2K     \u001B[90m━━━━━━━━━━━━━━━━━━━━━━━━━━━━━━━━━━━━━━━━\u001B[0m \u001B[32m11.4/11.4 MB\u001B[0m \u001B[31m11.4 MB/s\u001B[0m eta \u001B[36m0:00:00\u001B[0m00:01\u001B[0m00:01\u001B[0m\r\n",
      "\u001B[?25hCollecting wrapt>=1.11.0\r\n",
      "  Downloading wrapt-1.17.2-cp310-cp310-macosx_11_0_arm64.whl (38 kB)\r\n",
      "Collecting google-pasta>=0.1.1\r\n",
      "  Downloading google_pasta-0.2.0-py3-none-any.whl (57 kB)\r\n",
      "\u001B[2K     \u001B[90m━━━━━━━━━━━━━━━━━━━━━━━━━━━━━━━━━━━━━━━━\u001B[0m \u001B[32m57.5/57.5 kB\u001B[0m \u001B[31m4.5 MB/s\u001B[0m eta \u001B[36m0:00:00\u001B[0m\r\n",
      "\u001B[?25hCollecting termcolor>=1.1.0\r\n",
      "  Using cached termcolor-2.5.0-py3-none-any.whl (7.8 kB)\r\n",
      "Collecting flatbuffers>=24.3.25\r\n",
      "  Downloading flatbuffers-25.1.24-py2.py3-none-any.whl (30 kB)\r\n",
      "Requirement already satisfied: typing-extensions>=3.6.6 in /Users/iavnukov/PycharmProjects/skin-care-ai/venv/lib/python3.10/site-packages (from tensorflow) (4.12.2)\r\n",
      "Requirement already satisfied: setuptools in /Users/iavnukov/PycharmProjects/skin-care-ai/venv/lib/python3.10/site-packages (from tensorflow) (65.5.0)\r\n",
      "Collecting optree\r\n",
      "  Downloading optree-0.14.0-cp310-cp310-macosx_11_0_arm64.whl (324 kB)\r\n",
      "\u001B[2K     \u001B[90m━━━━━━━━━━━━━━━━━━━━━━━━━━━━━━━━━━━━━━━\u001B[0m \u001B[32m324.1/324.1 kB\u001B[0m \u001B[31m9.3 MB/s\u001B[0m eta \u001B[36m0:00:00\u001B[0m\r\n",
      "\u001B[?25hCollecting rich\r\n",
      "  Using cached rich-13.9.4-py3-none-any.whl (242 kB)\r\n",
      "Collecting namex\r\n",
      "  Downloading namex-0.0.8-py3-none-any.whl (5.8 kB)\r\n",
      "Collecting wheel<1.0,>=0.23.0\r\n",
      "  Downloading wheel-0.45.1-py3-none-any.whl (72 kB)\r\n",
      "\u001B[2K     \u001B[90m━━━━━━━━━━━━━━━━━━━━━━━━━━━━━━━━━━━━━━━━\u001B[0m \u001B[32m72.5/72.5 kB\u001B[0m \u001B[31m5.4 MB/s\u001B[0m eta \u001B[36m0:00:00\u001B[0m\r\n",
      "\u001B[?25hRequirement already satisfied: idna<4,>=2.5 in /Users/iavnukov/PycharmProjects/skin-care-ai/venv/lib/python3.10/site-packages (from requests->kagglehub) (3.10)\r\n",
      "Requirement already satisfied: certifi>=2017.4.17 in /Users/iavnukov/PycharmProjects/skin-care-ai/venv/lib/python3.10/site-packages (from requests->kagglehub) (2024.12.14)\r\n",
      "Requirement already satisfied: urllib3<3,>=1.21.1 in /Users/iavnukov/PycharmProjects/skin-care-ai/venv/lib/python3.10/site-packages (from requests->kagglehub) (2.3.0)\r\n",
      "Requirement already satisfied: charset-normalizer<4,>=2 in /Users/iavnukov/PycharmProjects/skin-care-ai/venv/lib/python3.10/site-packages (from requests->kagglehub) (3.4.1)\r\n",
      "Collecting tensorboard-data-server<0.8.0,>=0.7.0\r\n",
      "  Downloading tensorboard_data_server-0.7.2-py3-none-any.whl (2.4 kB)\r\n",
      "Collecting werkzeug>=1.0.1\r\n",
      "  Downloading werkzeug-3.1.3-py3-none-any.whl (224 kB)\r\n",
      "\u001B[2K     \u001B[90m━━━━━━━━━━━━━━━━━━━━━━━━━━━━━━━━━━━━━━━\u001B[0m \u001B[32m224.5/224.5 kB\u001B[0m \u001B[31m8.7 MB/s\u001B[0m eta \u001B[36m0:00:00\u001B[0m\r\n",
      "\u001B[?25hCollecting markdown>=2.6.8\r\n",
      "  Downloading Markdown-3.7-py3-none-any.whl (106 kB)\r\n",
      "\u001B[2K     \u001B[90m━━━━━━━━━━━━━━━━━━━━━━━━━━━━━━━━━━━━━━━\u001B[0m \u001B[32m106.3/106.3 kB\u001B[0m \u001B[31m7.3 MB/s\u001B[0m eta \u001B[36m0:00:00\u001B[0m\r\n",
      "\u001B[?25hCollecting markdown-it-py>=2.2.0\r\n",
      "  Using cached markdown_it_py-3.0.0-py3-none-any.whl (87 kB)\r\n",
      "Requirement already satisfied: pygments<3.0.0,>=2.13.0 in /Users/iavnukov/PycharmProjects/skin-care-ai/venv/lib/python3.10/site-packages (from rich->keras) (2.19.1)\r\n",
      "Collecting mdurl~=0.1\r\n",
      "  Using cached mdurl-0.1.2-py3-none-any.whl (10.0 kB)\r\n",
      "Requirement already satisfied: MarkupSafe>=2.1.1 in /Users/iavnukov/PycharmProjects/skin-care-ai/venv/lib/python3.10/site-packages (from werkzeug>=1.0.1->tensorboard<2.19,>=2.18->tensorflow) (3.0.2)\r\n",
      "Installing collected packages: namex, libclang, flatbuffers, wrapt, wheel, werkzeug, termcolor, tensorflow-io-gcs-filesystem, tensorboard-data-server, protobuf, optree, opt-einsum, ml-dtypes, mdurl, markdown, h5py, grpcio, google-pasta, gast, absl-py, tensorboard, markdown-it-py, astunparse, rich, keras, tensorflow\r\n",
      "Successfully installed absl-py-2.1.0 astunparse-1.6.3 flatbuffers-25.1.24 gast-0.6.0 google-pasta-0.2.0 grpcio-1.70.0 h5py-3.12.1 keras-3.8.0 libclang-18.1.1 markdown-3.7 markdown-it-py-3.0.0 mdurl-0.1.2 ml-dtypes-0.4.1 namex-0.0.8 opt-einsum-3.4.0 optree-0.14.0 protobuf-5.29.3 rich-13.9.4 tensorboard-2.18.0 tensorboard-data-server-0.7.2 tensorflow-2.18.0 tensorflow-io-gcs-filesystem-0.37.1 termcolor-2.5.0 werkzeug-3.1.3 wheel-0.45.1 wrapt-1.17.2\r\n",
      "\r\n",
      "\u001B[1m[\u001B[0m\u001B[34;49mnotice\u001B[0m\u001B[1;39;49m]\u001B[0m\u001B[39;49m A new release of pip is available: \u001B[0m\u001B[31;49m23.0.1\u001B[0m\u001B[39;49m -> \u001B[0m\u001B[32;49m25.0\u001B[0m\r\n",
      "\u001B[1m[\u001B[0m\u001B[34;49mnotice\u001B[0m\u001B[1;39;49m]\u001B[0m\u001B[39;49m To update, run: \u001B[0m\u001B[32;49mpip install --upgrade pip\u001B[0m\r\n"
     ]
    }
   ],
   "source": [
    "!pip install kagglehub tensorflow keras"
   ],
   "metadata": {
    "collapsed": false,
    "pycharm": {
     "name": "#%%\n"
    }
   }
  },
  {
   "cell_type": "code",
   "execution_count": 2,
   "outputs": [
    {
     "name": "stdout",
     "output_type": "stream",
     "text": [
      "Resuming download from 57671680 bytes (5525242831 bytes left)...\n",
      "Resuming download from https://www.kaggle.com/api/v1/datasets/download/kmader/skin-cancer-mnist-ham10000?dataset_version_number=2 (57671680/5582914511) bytes left.\n"
     ]
    },
    {
     "name": "stderr",
     "output_type": "stream",
     "text": [
      " 44%|████▍     | 2.31G/5.20G [03:49<04:53, 10.6MB/s]\n"
     ]
    },
    {
     "name": "stdout",
     "output_type": "stream",
     "text": [
      "ConnectionError, retrying...\n",
      "Resuming download from 2479882240 bytes (3103032271 bytes left)...\n",
      "Resuming download from https://www.kaggle.com/api/v1/datasets/download/kmader/skin-cancer-mnist-ham10000?dataset_version_number=2 (2479882240/5582914511) bytes left.\n"
     ]
    },
    {
     "name": "stderr",
     "output_type": "stream",
     "text": [
      " 53%|█████▎    | 2.74G/5.20G [00:56<05:20, 8.22MB/s]\n"
     ]
    },
    {
     "name": "stdout",
     "output_type": "stream",
     "text": [
      "ConnectionError, retrying...\n",
      "Resuming download from 2946498560 bytes (2636415951 bytes left)...\n",
      "Resuming download from https://www.kaggle.com/api/v1/datasets/download/kmader/skin-cancer-mnist-ham10000?dataset_version_number=2 (2946498560/5582914511) bytes left.\n"
     ]
    },
    {
     "name": "stderr",
     "output_type": "stream",
     "text": [
      " 73%|███████▎  | 3.80G/5.20G [01:55<02:32, 9.83MB/s]\n"
     ]
    },
    {
     "name": "stdout",
     "output_type": "stream",
     "text": [
      "ConnectionError, retrying...\n",
      "Resuming download from 4083154944 bytes (1499759567 bytes left)...\n",
      "Resuming download from https://www.kaggle.com/api/v1/datasets/download/kmader/skin-cancer-mnist-ham10000?dataset_version_number=2 (4083154944/5582914511) bytes left.\n"
     ]
    },
    {
     "name": "stderr",
     "output_type": "stream",
     "text": [
      "100%|██████████| 5.20G/5.20G [02:12<00:00, 11.3MB/s]"
     ]
    },
    {
     "name": "stdout",
     "output_type": "stream",
     "text": [
      "Extracting files...\n"
     ]
    },
    {
     "name": "stderr",
     "output_type": "stream",
     "text": [
      "\n"
     ]
    },
    {
     "name": "stdout",
     "output_type": "stream",
     "text": [
      "Path to dataset files: /Users/iavnukov/.cache/kagglehub/datasets/kmader/skin-cancer-mnist-ham10000/versions/2\n"
     ]
    }
   ],
   "source": [
    "import kagglehub\n",
    "\n",
    "while True:\n",
    "    try:\n",
    "        path = kagglehub.dataset_download(\"kmader/skin-cancer-mnist-ham10000\")\n",
    "    except Exception as e:\n",
    "        print(\"ConnectionError, retrying...\")\n",
    "    else:\n",
    "        break\n",
    "print(\"Path to dataset files:\", path)"
   ],
   "metadata": {
    "collapsed": false,
    "pycharm": {
     "name": "#%%\n"
    }
   }
  },
  {
   "cell_type": "code",
   "execution_count": 3,
   "outputs": [],
   "source": [
    "!mkdir ./datasets\n",
    "!mv $path ./datasets/skin-cancer"
   ],
   "metadata": {
    "collapsed": false,
    "pycharm": {
     "name": "#%%\n"
    }
   }
  },
  {
   "cell_type": "code",
   "execution_count": 6,
   "outputs": [
    {
     "name": "stderr",
     "output_type": "stream",
     "text": [
      "/Users/iavnukov/PycharmProjects/skin-care-ai/venv/lib/python3.10/site-packages/keras/src/layers/convolutional/base_conv.py:107: UserWarning: Do not pass an `input_shape`/`input_dim` argument to a layer. When using Sequential models, prefer using an `Input(shape)` object as the first layer in the model instead.\n",
      "  super().__init__(activity_regularizer=activity_regularizer, **kwargs)\n"
     ]
    },
    {
     "name": "stdout",
     "output_type": "stream",
     "text": [
      "Epoch 1/50\n",
      "\u001B[1m251/251\u001B[0m \u001B[32m━━━━━━━━━━━━━━━━━━━━\u001B[0m\u001B[37m\u001B[0m \u001B[1m30s\u001B[0m 115ms/step - accuracy: 0.5867 - loss: 3.8017 - val_accuracy: 0.6455 - val_loss: 2.2052 - learning_rate: 0.0010\n",
      "Epoch 2/50\n",
      "\u001B[1m251/251\u001B[0m \u001B[32m━━━━━━━━━━━━━━━━━━━━\u001B[0m\u001B[37m\u001B[0m \u001B[1m28s\u001B[0m 111ms/step - accuracy: 0.6544 - loss: 1.8444 - val_accuracy: 0.6760 - val_loss: 1.5751 - learning_rate: 0.0010\n",
      "Epoch 3/50\n",
      "\u001B[1m251/251\u001B[0m \u001B[32m━━━━━━━━━━━━━━━━━━━━\u001B[0m\u001B[37m\u001B[0m \u001B[1m28s\u001B[0m 110ms/step - accuracy: 0.6648 - loss: 1.6923 - val_accuracy: 0.6685 - val_loss: 1.5225 - learning_rate: 0.0010\n",
      "Epoch 4/50\n",
      "\u001B[1m251/251\u001B[0m \u001B[32m━━━━━━━━━━━━━━━━━━━━\u001B[0m\u001B[37m\u001B[0m \u001B[1m27s\u001B[0m 109ms/step - accuracy: 0.6733 - loss: 1.4924 - val_accuracy: 0.6805 - val_loss: 1.3496 - learning_rate: 0.0010\n",
      "Epoch 5/50\n",
      "\u001B[1m251/251\u001B[0m \u001B[32m━━━━━━━━━━━━━━━━━━━━\u001B[0m\u001B[37m\u001B[0m \u001B[1m29s\u001B[0m 114ms/step - accuracy: 0.6782 - loss: 1.3545 - val_accuracy: 0.6680 - val_loss: 1.5062 - learning_rate: 0.0010\n",
      "Epoch 6/50\n",
      "\u001B[1m251/251\u001B[0m \u001B[32m━━━━━━━━━━━━━━━━━━━━\u001B[0m\u001B[37m\u001B[0m \u001B[1m28s\u001B[0m 111ms/step - accuracy: 0.6683 - loss: 1.3781 - val_accuracy: 0.6186 - val_loss: 1.8106 - learning_rate: 0.0010\n",
      "Epoch 7/50\n",
      "\u001B[1m251/251\u001B[0m \u001B[32m━━━━━━━━━━━━━━━━━━━━\u001B[0m\u001B[37m\u001B[0m \u001B[1m26s\u001B[0m 102ms/step - accuracy: 0.6681 - loss: 1.3665 - val_accuracy: 0.6715 - val_loss: 1.3138 - learning_rate: 0.0010\n",
      "Epoch 8/50\n",
      "\u001B[1m251/251\u001B[0m \u001B[32m━━━━━━━━━━━━━━━━━━━━\u001B[0m\u001B[37m\u001B[0m \u001B[1m26s\u001B[0m 105ms/step - accuracy: 0.6911 - loss: 1.2516 - val_accuracy: 0.6835 - val_loss: 1.2814 - learning_rate: 0.0010\n",
      "Epoch 9/50\n",
      "\u001B[1m251/251\u001B[0m \u001B[32m━━━━━━━━━━━━━━━━━━━━\u001B[0m\u001B[37m\u001B[0m \u001B[1m26s\u001B[0m 103ms/step - accuracy: 0.6860 - loss: 1.1820 - val_accuracy: 0.6880 - val_loss: 1.0948 - learning_rate: 0.0010\n",
      "Epoch 10/50\n",
      "\u001B[1m251/251\u001B[0m \u001B[32m━━━━━━━━━━━━━━━━━━━━\u001B[0m\u001B[37m\u001B[0m \u001B[1m26s\u001B[0m 103ms/step - accuracy: 0.6754 - loss: 1.2301 - val_accuracy: 0.6635 - val_loss: 1.4407 - learning_rate: 0.0010\n",
      "Epoch 11/50\n",
      "\u001B[1m251/251\u001B[0m \u001B[32m━━━━━━━━━━━━━━━━━━━━\u001B[0m\u001B[37m\u001B[0m \u001B[1m27s\u001B[0m 106ms/step - accuracy: 0.6885 - loss: 1.2409 - val_accuracy: 0.6720 - val_loss: 1.2170 - learning_rate: 0.0010\n",
      "Epoch 12/50\n",
      "\u001B[1m251/251\u001B[0m \u001B[32m━━━━━━━━━━━━━━━━━━━━\u001B[0m\u001B[37m\u001B[0m \u001B[1m26s\u001B[0m 105ms/step - accuracy: 0.6740 - loss: 1.1937 - val_accuracy: 0.6890 - val_loss: 1.1100 - learning_rate: 0.0010\n",
      "Epoch 13/50\n",
      "\u001B[1m251/251\u001B[0m \u001B[32m━━━━━━━━━━━━━━━━━━━━\u001B[0m\u001B[37m\u001B[0m \u001B[1m26s\u001B[0m 105ms/step - accuracy: 0.6953 - loss: 1.0769 - val_accuracy: 0.6980 - val_loss: 1.2664 - learning_rate: 0.0010\n",
      "Epoch 14/50\n",
      "\u001B[1m251/251\u001B[0m \u001B[32m━━━━━━━━━━━━━━━━━━━━\u001B[0m\u001B[37m\u001B[0m \u001B[1m27s\u001B[0m 107ms/step - accuracy: 0.7121 - loss: 1.0533 - val_accuracy: 0.6945 - val_loss: 1.0954 - learning_rate: 0.0010\n",
      "Epoch 15/50\n",
      "\u001B[1m251/251\u001B[0m \u001B[32m━━━━━━━━━━━━━━━━━━━━\u001B[0m\u001B[37m\u001B[0m \u001B[1m26s\u001B[0m 105ms/step - accuracy: 0.7079 - loss: 1.0110 - val_accuracy: 0.7274 - val_loss: 0.9643 - learning_rate: 5.0000e-04\n",
      "Epoch 16/50\n",
      "\u001B[1m251/251\u001B[0m \u001B[32m━━━━━━━━━━━━━━━━━━━━\u001B[0m\u001B[37m\u001B[0m \u001B[1m25s\u001B[0m 101ms/step - accuracy: 0.7198 - loss: 0.9339 - val_accuracy: 0.7229 - val_loss: 0.9299 - learning_rate: 5.0000e-04\n",
      "Epoch 17/50\n",
      "\u001B[1m251/251\u001B[0m \u001B[32m━━━━━━━━━━━━━━━━━━━━\u001B[0m\u001B[37m\u001B[0m \u001B[1m26s\u001B[0m 103ms/step - accuracy: 0.7310 - loss: 0.8797 - val_accuracy: 0.7289 - val_loss: 0.9251 - learning_rate: 5.0000e-04\n",
      "Epoch 18/50\n",
      "\u001B[1m251/251\u001B[0m \u001B[32m━━━━━━━━━━━━━━━━━━━━\u001B[0m\u001B[37m\u001B[0m \u001B[1m26s\u001B[0m 103ms/step - accuracy: 0.7408 - loss: 0.8692 - val_accuracy: 0.7274 - val_loss: 1.0144 - learning_rate: 5.0000e-04\n",
      "Epoch 19/50\n",
      "\u001B[1m251/251\u001B[0m \u001B[32m━━━━━━━━━━━━━━━━━━━━\u001B[0m\u001B[37m\u001B[0m \u001B[1m25s\u001B[0m 101ms/step - accuracy: 0.7396 - loss: 0.8597 - val_accuracy: 0.7324 - val_loss: 0.9225 - learning_rate: 5.0000e-04\n",
      "Epoch 20/50\n",
      "\u001B[1m251/251\u001B[0m \u001B[32m━━━━━━━━━━━━━━━━━━━━\u001B[0m\u001B[37m\u001B[0m \u001B[1m26s\u001B[0m 105ms/step - accuracy: 0.7464 - loss: 0.8418 - val_accuracy: 0.7069 - val_loss: 1.0800 - learning_rate: 5.0000e-04\n",
      "Epoch 21/50\n",
      "\u001B[1m251/251\u001B[0m \u001B[32m━━━━━━━━━━━━━━━━━━━━\u001B[0m\u001B[37m\u001B[0m \u001B[1m27s\u001B[0m 107ms/step - accuracy: 0.7564 - loss: 0.8339 - val_accuracy: 0.6830 - val_loss: 1.6041 - learning_rate: 5.0000e-04\n",
      "Epoch 22/50\n",
      "\u001B[1m251/251\u001B[0m \u001B[32m━━━━━━━━━━━━━━━━━━━━\u001B[0m\u001B[37m\u001B[0m \u001B[1m27s\u001B[0m 107ms/step - accuracy: 0.7688 - loss: 0.8214 - val_accuracy: 0.7304 - val_loss: 0.9828 - learning_rate: 5.0000e-04\n",
      "Epoch 23/50\n",
      "\u001B[1m251/251\u001B[0m \u001B[32m━━━━━━━━━━━━━━━━━━━━\u001B[0m\u001B[37m\u001B[0m \u001B[1m26s\u001B[0m 105ms/step - accuracy: 0.7893 - loss: 0.7784 - val_accuracy: 0.7419 - val_loss: 0.9190 - learning_rate: 5.0000e-04\n",
      "Epoch 24/50\n",
      "\u001B[1m251/251\u001B[0m \u001B[32m━━━━━━━━━━━━━━━━━━━━\u001B[0m\u001B[37m\u001B[0m \u001B[1m27s\u001B[0m 106ms/step - accuracy: 0.7880 - loss: 0.7555 - val_accuracy: 0.6995 - val_loss: 1.3187 - learning_rate: 5.0000e-04\n",
      "Epoch 25/50\n",
      "\u001B[1m251/251\u001B[0m \u001B[32m━━━━━━━━━━━━━━━━━━━━\u001B[0m\u001B[37m\u001B[0m \u001B[1m26s\u001B[0m 104ms/step - accuracy: 0.8048 - loss: 0.7703 - val_accuracy: 0.7334 - val_loss: 1.0781 - learning_rate: 5.0000e-04\n",
      "Epoch 26/50\n",
      "\u001B[1m251/251\u001B[0m \u001B[32m━━━━━━━━━━━━━━━━━━━━\u001B[0m\u001B[37m\u001B[0m \u001B[1m25s\u001B[0m 100ms/step - accuracy: 0.8179 - loss: 0.7318 - val_accuracy: 0.7449 - val_loss: 1.0507 - learning_rate: 5.0000e-04\n",
      "Epoch 27/50\n",
      "\u001B[1m251/251\u001B[0m \u001B[32m━━━━━━━━━━━━━━━━━━━━\u001B[0m\u001B[37m\u001B[0m \u001B[1m25s\u001B[0m 101ms/step - accuracy: 0.8383 - loss: 0.6933 - val_accuracy: 0.7349 - val_loss: 1.2367 - learning_rate: 5.0000e-04\n",
      "Epoch 28/50\n",
      "\u001B[1m251/251\u001B[0m \u001B[32m━━━━━━━━━━━━━━━━━━━━\u001B[0m\u001B[37m\u001B[0m \u001B[1m25s\u001B[0m 100ms/step - accuracy: 0.8457 - loss: 0.6807 - val_accuracy: 0.7184 - val_loss: 1.2686 - learning_rate: 5.0000e-04\n",
      "Epoch 29/50\n",
      "\u001B[1m251/251\u001B[0m \u001B[32m━━━━━━━━━━━━━━━━━━━━\u001B[0m\u001B[37m\u001B[0m \u001B[1m26s\u001B[0m 102ms/step - accuracy: 0.8693 - loss: 0.6196 - val_accuracy: 0.7544 - val_loss: 1.0154 - learning_rate: 2.5000e-04\n",
      "Epoch 30/50\n",
      "\u001B[1m251/251\u001B[0m \u001B[32m━━━━━━━━━━━━━━━━━━━━\u001B[0m\u001B[37m\u001B[0m \u001B[1m25s\u001B[0m 100ms/step - accuracy: 0.8991 - loss: 0.5251 - val_accuracy: 0.7494 - val_loss: 1.1009 - learning_rate: 2.5000e-04\n",
      "Epoch 31/50\n",
      "\u001B[1m251/251\u001B[0m \u001B[32m━━━━━━━━━━━━━━━━━━━━\u001B[0m\u001B[37m\u001B[0m \u001B[1m25s\u001B[0m 101ms/step - accuracy: 0.9116 - loss: 0.4842 - val_accuracy: 0.7419 - val_loss: 1.1061 - learning_rate: 2.5000e-04\n",
      "Epoch 32/50\n",
      "\u001B[1m251/251\u001B[0m \u001B[32m━━━━━━━━━━━━━━━━━━━━\u001B[0m\u001B[37m\u001B[0m \u001B[1m25s\u001B[0m 100ms/step - accuracy: 0.9224 - loss: 0.4481 - val_accuracy: 0.7604 - val_loss: 1.1117 - learning_rate: 2.5000e-04\n",
      "Epoch 33/50\n",
      "\u001B[1m251/251\u001B[0m \u001B[32m━━━━━━━━━━━━━━━━━━━━\u001B[0m\u001B[37m\u001B[0m \u001B[1m25s\u001B[0m 100ms/step - accuracy: 0.9345 - loss: 0.4181 - val_accuracy: 0.7504 - val_loss: 1.0887 - learning_rate: 2.5000e-04\n",
      "Epoch 34/50\n",
      "\u001B[1m251/251\u001B[0m \u001B[32m━━━━━━━━━━━━━━━━━━━━\u001B[0m\u001B[37m\u001B[0m \u001B[1m25s\u001B[0m 101ms/step - accuracy: 0.9446 - loss: 0.3877 - val_accuracy: 0.7659 - val_loss: 1.0707 - learning_rate: 1.2500e-04\n",
      "Epoch 35/50\n",
      "\u001B[1m251/251\u001B[0m \u001B[32m━━━━━━━━━━━━━━━━━━━━\u001B[0m\u001B[37m\u001B[0m \u001B[1m25s\u001B[0m 101ms/step - accuracy: 0.9527 - loss: 0.3456 - val_accuracy: 0.7619 - val_loss: 1.1418 - learning_rate: 1.2500e-04\n",
      "Epoch 36/50\n",
      "\u001B[1m251/251\u001B[0m \u001B[32m━━━━━━━━━━━━━━━━━━━━\u001B[0m\u001B[37m\u001B[0m \u001B[1m25s\u001B[0m 101ms/step - accuracy: 0.9621 - loss: 0.3234 - val_accuracy: 0.7673 - val_loss: 1.0731 - learning_rate: 1.2500e-04\n",
      "Epoch 37/50\n",
      "\u001B[1m251/251\u001B[0m \u001B[32m━━━━━━━━━━━━━━━━━━━━\u001B[0m\u001B[37m\u001B[0m \u001B[1m25s\u001B[0m 101ms/step - accuracy: 0.9665 - loss: 0.3053 - val_accuracy: 0.7634 - val_loss: 1.1393 - learning_rate: 1.2500e-04\n",
      "Epoch 38/50\n",
      "\u001B[1m251/251\u001B[0m \u001B[32m━━━━━━━━━━━━━━━━━━━━\u001B[0m\u001B[37m\u001B[0m \u001B[1m25s\u001B[0m 101ms/step - accuracy: 0.9649 - loss: 0.2911 - val_accuracy: 0.7544 - val_loss: 1.0884 - learning_rate: 1.2500e-04\n",
      "Epoch 39/50\n",
      "\u001B[1m251/251\u001B[0m \u001B[32m━━━━━━━━━━━━━━━━━━━━\u001B[0m\u001B[37m\u001B[0m \u001B[1m25s\u001B[0m 101ms/step - accuracy: 0.9772 - loss: 0.2690 - val_accuracy: 0.7668 - val_loss: 1.0900 - learning_rate: 6.2500e-05\n",
      "Epoch 40/50\n",
      "\u001B[1m251/251\u001B[0m \u001B[32m━━━━━━━━━━━━━━━━━━━━\u001B[0m\u001B[37m\u001B[0m \u001B[1m25s\u001B[0m 101ms/step - accuracy: 0.9758 - loss: 0.2625 - val_accuracy: 0.7713 - val_loss: 1.1645 - learning_rate: 6.2500e-05\n",
      "Epoch 41/50\n",
      "\u001B[1m251/251\u001B[0m \u001B[32m━━━━━━━━━━━━━━━━━━━━\u001B[0m\u001B[37m\u001B[0m \u001B[1m25s\u001B[0m 101ms/step - accuracy: 0.9824 - loss: 0.2450 - val_accuracy: 0.7693 - val_loss: 1.1777 - learning_rate: 6.2500e-05\n",
      "Epoch 42/50\n",
      "\u001B[1m251/251\u001B[0m \u001B[32m━━━━━━━━━━━━━━━━━━━━\u001B[0m\u001B[37m\u001B[0m \u001B[1m25s\u001B[0m 100ms/step - accuracy: 0.9825 - loss: 0.2441 - val_accuracy: 0.7723 - val_loss: 1.1553 - learning_rate: 6.2500e-05\n",
      "Epoch 43/50\n",
      "\u001B[1m251/251\u001B[0m \u001B[32m━━━━━━━━━━━━━━━━━━━━\u001B[0m\u001B[37m\u001B[0m \u001B[1m25s\u001B[0m 101ms/step - accuracy: 0.9836 - loss: 0.2289 - val_accuracy: 0.7644 - val_loss: 1.1185 - learning_rate: 6.2500e-05\n",
      "Epoch 44/50\n",
      "\u001B[1m251/251\u001B[0m \u001B[32m━━━━━━━━━━━━━━━━━━━━\u001B[0m\u001B[37m\u001B[0m \u001B[1m25s\u001B[0m 101ms/step - accuracy: 0.9866 - loss: 0.2228 - val_accuracy: 0.7698 - val_loss: 1.1121 - learning_rate: 3.1250e-05\n",
      "Epoch 45/50\n",
      "\u001B[1m251/251\u001B[0m \u001B[32m━━━━━━━━━━━━━━━━━━━━\u001B[0m\u001B[37m\u001B[0m \u001B[1m25s\u001B[0m 101ms/step - accuracy: 0.9871 - loss: 0.2146 - val_accuracy: 0.7659 - val_loss: 1.1178 - learning_rate: 3.1250e-05\n",
      "Epoch 46/50\n",
      "\u001B[1m251/251\u001B[0m \u001B[32m━━━━━━━━━━━━━━━━━━━━\u001B[0m\u001B[37m\u001B[0m \u001B[1m25s\u001B[0m 100ms/step - accuracy: 0.9856 - loss: 0.2118 - val_accuracy: 0.7668 - val_loss: 1.1171 - learning_rate: 3.1250e-05\n",
      "Epoch 47/50\n",
      "\u001B[1m251/251\u001B[0m \u001B[32m━━━━━━━━━━━━━━━━━━━━\u001B[0m\u001B[37m\u001B[0m \u001B[1m25s\u001B[0m 101ms/step - accuracy: 0.9904 - loss: 0.2043 - val_accuracy: 0.7678 - val_loss: 1.1259 - learning_rate: 3.1250e-05\n",
      "Epoch 48/50\n",
      "\u001B[1m251/251\u001B[0m \u001B[32m━━━━━━━━━━━━━━━━━━━━\u001B[0m\u001B[37m\u001B[0m \u001B[1m25s\u001B[0m 101ms/step - accuracy: 0.9894 - loss: 0.2050 - val_accuracy: 0.7649 - val_loss: 1.1418 - learning_rate: 3.1250e-05\n",
      "Epoch 49/50\n",
      "\u001B[1m251/251\u001B[0m \u001B[32m━━━━━━━━━━━━━━━━━━━━\u001B[0m\u001B[37m\u001B[0m \u001B[1m25s\u001B[0m 101ms/step - accuracy: 0.9896 - loss: 0.2021 - val_accuracy: 0.7688 - val_loss: 1.1301 - learning_rate: 1.5625e-05\n",
      "Epoch 50/50\n",
      "\u001B[1m251/251\u001B[0m \u001B[32m━━━━━━━━━━━━━━━━━━━━\u001B[0m\u001B[37m\u001B[0m \u001B[1m25s\u001B[0m 101ms/step - accuracy: 0.9896 - loss: 0.2012 - val_accuracy: 0.7683 - val_loss: 1.1418 - learning_rate: 1.5625e-05\n",
      "\u001B[1m63/63\u001B[0m \u001B[32m━━━━━━━━━━━━━━━━━━━━\u001B[0m\u001B[37m\u001B[0m \u001B[1m2s\u001B[0m 25ms/step\n"
     ]
    },
    {
     "ename": "FileNotFoundError",
     "evalue": "[Errno 2] No such file or directory: '/kaggle/working/training_progress.json'",
     "output_type": "error",
     "traceback": [
      "\u001B[0;31m---------------------------------------------------------------------------\u001B[0m",
      "\u001B[0;31mFileNotFoundError\u001B[0m                         Traceback (most recent call last)",
      "Cell \u001B[0;32mIn[6], line 91\u001B[0m\n\u001B[1;32m     83\u001B[0m f1 \u001B[38;5;241m=\u001B[39m f1_score(y_val_labels, y_pred_labels, average\u001B[38;5;241m=\u001B[39m\u001B[38;5;124m'\u001B[39m\u001B[38;5;124mweighted\u001B[39m\u001B[38;5;124m'\u001B[39m)\n\u001B[1;32m     84\u001B[0m history_data \u001B[38;5;241m=\u001B[39m {\n\u001B[1;32m     85\u001B[0m     \u001B[38;5;124m\"\u001B[39m\u001B[38;5;124maccuracy\u001B[39m\u001B[38;5;124m\"\u001B[39m: history\u001B[38;5;241m.\u001B[39mhistory[\u001B[38;5;124m'\u001B[39m\u001B[38;5;124maccuracy\u001B[39m\u001B[38;5;124m'\u001B[39m],\n\u001B[1;32m     86\u001B[0m     \u001B[38;5;124m\"\u001B[39m\u001B[38;5;124mval_accuracy\u001B[39m\u001B[38;5;124m\"\u001B[39m: history\u001B[38;5;241m.\u001B[39mhistory[\u001B[38;5;124m'\u001B[39m\u001B[38;5;124mval_accuracy\u001B[39m\u001B[38;5;124m'\u001B[39m],\n\u001B[0;32m   (...)\u001B[0m\n\u001B[1;32m     89\u001B[0m     \u001B[38;5;124m\"\u001B[39m\u001B[38;5;124mf1_score\u001B[39m\u001B[38;5;124m\"\u001B[39m: f1\n\u001B[1;32m     90\u001B[0m }\n\u001B[0;32m---> 91\u001B[0m \u001B[38;5;28;01mwith\u001B[39;00m \u001B[38;5;28;43mopen\u001B[39;49m\u001B[43m(\u001B[49m\u001B[38;5;124;43m\"\u001B[39;49m\u001B[38;5;124;43m/kaggle/working/training_progress.json\u001B[39;49m\u001B[38;5;124;43m\"\u001B[39;49m\u001B[43m,\u001B[49m\u001B[43m \u001B[49m\u001B[38;5;124;43m\"\u001B[39;49m\u001B[38;5;124;43mw\u001B[39;49m\u001B[38;5;124;43m\"\u001B[39;49m\u001B[43m)\u001B[49m \u001B[38;5;28;01mas\u001B[39;00m json_file:\n\u001B[1;32m     92\u001B[0m     json\u001B[38;5;241m.\u001B[39mdump(history_data, json_file)\n\u001B[1;32m     94\u001B[0m \u001B[38;5;28mprint\u001B[39m(\u001B[38;5;124m\"\u001B[39m\u001B[38;5;124mClassification Report:\u001B[39m\u001B[38;5;124m\"\u001B[39m)\n",
      "File \u001B[0;32m~/PycharmProjects/skin-care-ai/venv/lib/python3.10/site-packages/IPython/core/interactiveshell.py:324\u001B[0m, in \u001B[0;36m_modified_open\u001B[0;34m(file, *args, **kwargs)\u001B[0m\n\u001B[1;32m    317\u001B[0m \u001B[38;5;28;01mif\u001B[39;00m file \u001B[38;5;129;01min\u001B[39;00m {\u001B[38;5;241m0\u001B[39m, \u001B[38;5;241m1\u001B[39m, \u001B[38;5;241m2\u001B[39m}:\n\u001B[1;32m    318\u001B[0m     \u001B[38;5;28;01mraise\u001B[39;00m \u001B[38;5;167;01mValueError\u001B[39;00m(\n\u001B[1;32m    319\u001B[0m         \u001B[38;5;124mf\u001B[39m\u001B[38;5;124m\"\u001B[39m\u001B[38;5;124mIPython won\u001B[39m\u001B[38;5;124m'\u001B[39m\u001B[38;5;124mt let you open fd=\u001B[39m\u001B[38;5;132;01m{\u001B[39;00mfile\u001B[38;5;132;01m}\u001B[39;00m\u001B[38;5;124m by default \u001B[39m\u001B[38;5;124m\"\u001B[39m\n\u001B[1;32m    320\u001B[0m         \u001B[38;5;124m\"\u001B[39m\u001B[38;5;124mas it is likely to crash IPython. If you know what you are doing, \u001B[39m\u001B[38;5;124m\"\u001B[39m\n\u001B[1;32m    321\u001B[0m         \u001B[38;5;124m\"\u001B[39m\u001B[38;5;124myou can use builtins\u001B[39m\u001B[38;5;124m'\u001B[39m\u001B[38;5;124m open.\u001B[39m\u001B[38;5;124m\"\u001B[39m\n\u001B[1;32m    322\u001B[0m     )\n\u001B[0;32m--> 324\u001B[0m \u001B[38;5;28;01mreturn\u001B[39;00m \u001B[43mio_open\u001B[49m\u001B[43m(\u001B[49m\u001B[43mfile\u001B[49m\u001B[43m,\u001B[49m\u001B[43m \u001B[49m\u001B[38;5;241;43m*\u001B[39;49m\u001B[43margs\u001B[49m\u001B[43m,\u001B[49m\u001B[43m \u001B[49m\u001B[38;5;241;43m*\u001B[39;49m\u001B[38;5;241;43m*\u001B[39;49m\u001B[43mkwargs\u001B[49m\u001B[43m)\u001B[49m\n",
      "\u001B[0;31mFileNotFoundError\u001B[0m: [Errno 2] No such file or directory: '/kaggle/working/training_progress.json'"
     ]
    }
   ],
   "source": [
    "import os\n",
    "import numpy as np\n",
    "import pandas as pd\n",
    "import matplotlib.pyplot as plt\n",
    "import tensorflow as tf\n",
    "from tensorflow.keras.models import Sequential\n",
    "from tensorflow.keras.layers import Conv2D, MaxPooling2D, Flatten, Dense, Dropout, BatchNormalization\n",
    "from tensorflow.keras.regularizers import l2\n",
    "from tensorflow.keras.callbacks import ReduceLROnPlateau\n",
    "from tensorflow.keras.utils import to_categorical\n",
    "from sklearn.model_selection import train_test_split\n",
    "from sklearn.preprocessing import LabelEncoder\n",
    "from sklearn.metrics import classification_report, f1_score\n",
    "import json\n",
    "\n",
    "data_dir1 = \"./datasets/skin-cancer/HAM10000_images_part_1\"\n",
    "data_dir2 = \"./datasets/skin-cancer/HAM10000_images_part_2\"\n",
    "metadata_path = \"./datasets/skin-cancer/HAM10000_metadata.csv\"\n",
    "\n",
    "metadata = pd.read_csv(metadata_path)\n",
    "\n",
    "metadata['image_path'] = metadata['image_id'].apply(\n",
    "    lambda x: os.path.join(data_dir1, f\"{x}.jpg\") if os.path.exists(os.path.join(data_dir1, f\"{x}.jpg\")) else os.path.join(data_dir2, f\"{x}.jpg\")\n",
    ")\n",
    "\n",
    "metadata = metadata[metadata['image_path'].apply(os.path.exists)]\n",
    "\n",
    "label_encoder = LabelEncoder()\n",
    "metadata['label'] = label_encoder.fit_transform(metadata['dx'])\n",
    "num_classes = len(metadata['label'].unique())\n",
    "\n",
    "IMG_SIZE = 128\n",
    "\n",
    "def preprocess_image(image_path):\n",
    "    image = tf.keras.preprocessing.image.load_img(image_path, target_size=(IMG_SIZE, IMG_SIZE))\n",
    "    image = tf.keras.preprocessing.image.img_to_array(image)\n",
    "    return image / 255.0\n",
    "\n",
    "images = np.array([preprocess_image(img_path) for img_path in metadata['image_path']])\n",
    "labels = to_categorical(metadata['label'], num_classes=num_classes)\n",
    "\n",
    "X_train, X_val, y_train, y_val = train_test_split(images, labels, test_size=0.2, random_state=42)\n",
    "\n",
    "model = Sequential([\n",
    "    Conv2D(32, (3, 3), activation='relu', input_shape=(IMG_SIZE, IMG_SIZE, 3), kernel_regularizer=l2(0.001)),\n",
    "    MaxPooling2D((2, 2)),\n",
    "    BatchNormalization(),\n",
    "\n",
    "    Conv2D(64, (3, 3), activation='relu', kernel_regularizer=l2(0.001)),\n",
    "    MaxPooling2D((2, 2)),\n",
    "    BatchNormalization(),\n",
    "\n",
    "    Conv2D(128, (3, 3), activation='relu', kernel_regularizer=l2(0.001)),\n",
    "    MaxPooling2D((2, 2)),\n",
    "    BatchNormalization(),\n",
    "\n",
    "    Flatten(),\n",
    "    Dense(128, activation='relu', kernel_regularizer=l2(0.001)),\n",
    "    Dropout(0.5),\n",
    "    Dense(num_classes, activation='softmax')\n",
    "])\n",
    "\n",
    "model.compile(optimizer=tf.keras.optimizers.Adam(learning_rate=0.001), loss='categorical_crossentropy', metrics=['accuracy'])\n",
    "\n",
    "reduce_lr = ReduceLROnPlateau(monitor='val_loss', factor=0.5, patience=5, min_lr=1e-6)\n",
    "\n",
    "EPOCHS = 50\n",
    "BATCH_SIZE = 32\n",
    "history = model.fit(\n",
    "    X_train,\n",
    "    y_train,\n",
    "    batch_size=BATCH_SIZE,\n",
    "    validation_data=(X_val, y_val),\n",
    "    epochs=EPOCHS,\n",
    "    callbacks=[reduce_lr],\n",
    "    verbose=1\n",
    ")\n",
    "\n",
    "val_predictions = model.predict(X_val)\n",
    "y_val_labels = np.argmax(y_val, axis=1)\n",
    "y_pred_labels = np.argmax(val_predictions, axis=1)\n",
    "\n",
    "f1 = f1_score(y_val_labels, y_pred_labels, average='weighted')\n",
    "history_data = {\n",
    "    \"accuracy\": history.history['accuracy'],\n",
    "    \"val_accuracy\": history.history['val_accuracy'],\n",
    "    \"loss\": history.history['loss'],\n",
    "    \"val_loss\": history.history['val_loss'],\n",
    "    \"f1_score\": f1\n",
    "}"
   ],
   "metadata": {
    "collapsed": false,
    "pycharm": {
     "name": "#%%\n"
    }
   }
  },
  {
   "cell_type": "code",
   "execution_count": 7,
   "outputs": [
    {
     "name": "stdout",
     "output_type": "stream",
     "text": [
      "Classification Report:\n",
      "              precision    recall  f1-score   support\n",
      "\n",
      "       akiec       0.39      0.29      0.33        69\n",
      "         bcc       0.58      0.61      0.60        93\n",
      "         bkl       0.54      0.48      0.51       228\n",
      "          df       1.00      0.11      0.19        28\n",
      "         mel       0.53      0.40      0.45       226\n",
      "          nv       0.85      0.93      0.89      1338\n",
      "        vasc       0.76      0.62      0.68        21\n",
      "\n",
      "    accuracy                           0.77      2003\n",
      "   macro avg       0.67      0.49      0.52      2003\n",
      "weighted avg       0.75      0.77      0.75      2003\n",
      "\n"
     ]
    },
    {
     "data": {
      "text/plain": "<Figure size 1200x400 with 2 Axes>",
      "image/png": "[encoded data removed]"
     },
     "metadata": {},
     "output_type": "display_data"
    }
   ],
   "source": [
    "with open(\"./training_progress.json\", \"w\") as json_file:\n",
    "    json.dump(history_data, json_file)\n",
    "\n",
    "print(\"Classification Report:\")\n",
    "print(classification_report(y_val_labels, y_pred_labels, target_names=label_encoder.classes_))\n",
    "\n",
    "model.save(\"./baseline.keras\")\n",
    "\n",
    "plt.figure(figsize=(12, 4))\n",
    "\n",
    "plt.subplot(1, 2, 1)\n",
    "plt.plot(history.history['accuracy'], label='Train Accuracy')\n",
    "plt.plot(history.history['val_accuracy'], label='Validation Accuracy')\n",
    "plt.title('Model Accuracy')\n",
    "plt.xlabel('Epochs')\n",
    "plt.ylabel('Accuracy')\n",
    "plt.legend()\n",
    "\n",
    "plt.subplot(1, 2, 2)\n",
    "plt.plot(history.history['loss'], label='Train Loss')\n",
    "plt.plot(history.history['val_loss'], label='Validation Loss')\n",
    "plt.title('Model Loss')\n",
    "plt.xlabel('Epochs')\n",
    "plt.ylabel('Loss')\n",
    "plt.legend()\n",
    "\n",
    "plt.show()"
   ],
   "metadata": {
    "collapsed": false,
    "pycharm": {
     "name": "#%%\n"
    }
   }
  },
  {
   "cell_type": "code",
   "execution_count": null,
   "outputs": [],
   "source": [],
   "metadata": {
    "collapsed": false,
    "pycharm": {
     "name": "#%%\n"
    }
   }
  }
 ],
 "metadata": {
  "kernelspec": {
   "display_name": "Python 3",
   "language": "python",
   "name": "python3"
  },
  "language_info": {
   "codemirror_mode": {
    "name": "ipython",
    "version": 2
   },
   "file_extension": ".py",
   "mimetype": "text/x-python",
   "name": "python",
   "nbconvert_exporter": "python",
   "pygments_lexer": "ipython2",
   "version": "2.7.6"
  }
 },
 "nbformat": 4,
 "nbformat_minor": 0
}